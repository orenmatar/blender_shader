{
 "cells": [
  {
   "cell_type": "code",
   "execution_count": null,
   "id": "e055d406-b02a-4722-b4e9-fae3f2bcd9fa",
   "metadata": {},
   "outputs": [],
   "source": [
    "!pip install genesis-world"
   ]
  },
  {
   "cell_type": "code",
   "execution_count": null,
   "id": "2fd72a76-b982-432e-808a-e08b2aa06fe9",
   "metadata": {},
   "outputs": [],
   "source": []
  },
  {
   "cell_type": "code",
   "execution_count": null,
   "id": "e67222f0-8f25-479e-8cbc-a5a3e33f26d3",
   "metadata": {},
   "outputs": [],
   "source": []
  },
  {
   "cell_type": "code",
   "execution_count": null,
   "id": "043e30ae-fb17-4e0a-8c01-6bb40d64e5c2",
   "metadata": {},
   "outputs": [],
   "source": []
  },
  {
   "cell_type": "code",
   "execution_count": null,
   "id": "4bae7479-6584-4e5f-9042-ce4fb35348ee",
   "metadata": {},
   "outputs": [],
   "source": []
  },
  {
   "cell_type": "code",
   "execution_count": null,
   "id": "c718c65d-4e4c-4a9b-a1df-1ac131471522",
   "metadata": {},
   "outputs": [],
   "source": []
  }
 ],
 "metadata": {
  "kernelspec": {
   "display_name": "Python 3 (ipykernel)",
   "language": "python",
   "name": "python3"
  },
  "language_info": {
   "codemirror_mode": {
    "name": "ipython",
    "version": 3
   },
   "file_extension": ".py",
   "mimetype": "text/x-python",
   "name": "python",
   "nbconvert_exporter": "python",
   "pygments_lexer": "ipython3",
   "version": "3.11.0"
  }
 },
 "nbformat": 4,
 "nbformat_minor": 5
}
