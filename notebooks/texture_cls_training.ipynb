{
 "cells": [
  {
   "cell_type": "code",
   "execution_count": 1,
   "id": "9915f3d9-54db-4d5d-ae68-3f9ce88fde7d",
   "metadata": {
    "scrolled": true
   },
   "outputs": [],
   "source": [
    "%load_ext autoreload\n",
    "%matplotlib ipympl\n",
    "%matplotlib inline\n",
    "import matplotlib.pyplot as plt\n",
    "import matplotlib.image as mpimg\n",
    "import sys\n",
    "import clipboard\n",
    "import numpy as np\n",
    "import os\n",
    "from sklearn.metrics import roc_auc_score\n",
    "from IPython.display import clear_output\n",
    "from PIL import Image\n",
    "import networkx as nx\n",
    "import json\n",
    "import pandas as pd\n",
    "import random\n",
    "import time\n",
    "import neptune\n",
    "from collections import defaultdict\n",
    "import os\n",
    "import time\n",
    "import subprocess\n",
    "import torch\n",
    "import gc\n",
    "sys.path.append('/Users/orenm/BlenderShaderProject/project_files/')"
   ]
  },
  {
   "cell_type": "code",
   "execution_count": 2,
   "id": "a318e5ee-7718-40f1-adb3-ee80cf8e4406",
   "metadata": {},
   "outputs": [],
   "source": [
    "%autoreload\n",
    "from Logic.utils import lc\n",
    "from Logic.data_loaders import create_dataloaders, evaluate_model_by_attribute\n",
    "from Logic.NN_makers import make_siamese_vgg, make_siamese_dists"
   ]
  },
  {
   "cell_type": "code",
   "execution_count": 3,
   "id": "e99d0e29-e80c-404e-83be-09d3a1e3db57",
   "metadata": {},
   "outputs": [],
   "source": [
    "import cProfile\n",
    "import IPython.display as dp\n",
    "from pstats import Stats\n",
    "\n",
    "# pip install gprof2dot\n",
    "\n",
    "def profile(exec_code):\n",
    "    cProfile.run(exec_code, filename='/tmp/cprof.pstats')\n",
    "    !gprof2dot -f pstats /tmp/cprof.pstats | dot -Tpng -o /tmp/output.png\n",
    "    return dp.Image(filename='/tmp/output.png')"
   ]
  },
  {
   "cell_type": "code",
   "execution_count": 4,
   "id": "cfb0fff1-1609-4835-9068-d8ec4e992173",
   "metadata": {},
   "outputs": [],
   "source": [
    "def count_parameters(model):\n",
    "    return sum(p.numel() for p in model.parameters() if p.requires_grad)"
   ]
  },
  {
   "cell_type": "code",
   "execution_count": 5,
   "id": "1c9f500f-14ee-4d07-af7f-b39a5ecbc57c",
   "metadata": {},
   "outputs": [],
   "source": [
    "NEPTUNE_KEY = \"eyJhcGlfYWRkcmVzcyI6Imh0dHBzOi8vYXBwLm5lcHR1bmUuYWkiLCJhcGlfdXJsIjoiaHR0cHM6Ly9hcHAubmVwdHVuZS5haSIsImFwaV9rZXkiOiJjYTQ2MmQ1YS1mNTc0LTRkMDgtYWU1My02MTQ0MWIyNDdlNzUifQ==\""
   ]
  },
  {
   "cell_type": "code",
   "execution_count": 6,
   "id": "fbbe1bde-bd06-4954-8cbc-d0ae42208734",
   "metadata": {},
   "outputs": [],
   "source": [
    "path = '/Users/orenm/BlenderShaderProject/data/'\n",
    "images_path = os.path.join(path, 'images/')\n",
    "models_path = os.path.join(path, 'models/')\n",
    "db_path = os.path.join(path, 'DB/')"
   ]
  },
  {
   "cell_type": "code",
   "execution_count": 7,
   "id": "cec8c4d6-20aa-4c05-80ab-483da27f9241",
   "metadata": {},
   "outputs": [],
   "source": [
    "file_path = os.path.join(path, 'texture_cls_pairs.json')\n",
    "with open(file_path, \"rb\") as json_file:\n",
    "    data = json.load(json_file)"
   ]
  },
  {
   "cell_type": "code",
   "execution_count": 8,
   "id": "29546c5f-a3e0-4009-ae18-f60266096f0b",
   "metadata": {},
   "outputs": [
    {
     "data": {
      "text/plain": [
       "dict_keys(['similar_pairs', 'different_pairs_random', 'different_pairs_cluster', 'cat_numeric_pairs', 'important_params_pairs'])"
      ]
     },
     "execution_count": 8,
     "metadata": {},
     "output_type": "execute_result"
    }
   ],
   "source": [
    "data.keys()"
   ]
  },
  {
   "cell_type": "code",
   "execution_count": 9,
   "id": "00dda667-de75-43f7-aaab-7d92532240bd",
   "metadata": {},
   "outputs": [],
   "source": [
    "def add_labels(pairs, *labels):\n",
    "    return [(x[0], x[1], *labels) for x in pairs]\n",
    "\n",
    "dataset = []\n",
    "for pair_type in ['different_pairs_random', 'different_pairs_cluster', 'cat_numeric_pairs', 'important_params_pairs']:\n",
    "    dataset.extend(add_labels(data[pair_type], 0, pair_type))\n",
    "\n",
    "dataset.extend(add_labels(data['similar_pairs'], 1, 'similar_pairs'))"
   ]
  },
  {
   "cell_type": "code",
   "execution_count": 10,
   "id": "4534f644-f728-4049-a455-909a674ea17d",
   "metadata": {},
   "outputs": [
    {
     "data": {
      "text/plain": [
       "158304"
      ]
     },
     "execution_count": 10,
     "metadata": {},
     "output_type": "execute_result"
    }
   ],
   "source": [
    "len(dataset)"
   ]
  },
  {
   "cell_type": "code",
   "execution_count": 11,
   "id": "880d9cae-4ec3-4b54-87bd-424693820603",
   "metadata": {
    "scrolled": true
   },
   "outputs": [],
   "source": [
    "sampled_dataset = random.sample(dataset, k=50000)"
   ]
  },
  {
   "cell_type": "code",
   "execution_count": 12,
   "id": "7ae3264b-a549-46a5-950a-56348feb7cc7",
   "metadata": {},
   "outputs": [
    {
     "data": {
      "text/plain": [
       "3\n",
       "similar_pairs              0.38360\n",
       "different_pairs_random     0.18996\n",
       "different_pairs_cluster    0.18934\n",
       "important_params_pairs     0.13488\n",
       "cat_numeric_pairs          0.10222\n",
       "Name: proportion, dtype: float64"
      ]
     },
     "execution_count": 12,
     "metadata": {},
     "output_type": "execute_result"
    }
   ],
   "source": [
    "pd.DataFrame(sampled_dataset)[3].value_counts(normalize=True)"
   ]
  },
  {
   "cell_type": "code",
   "execution_count": 13,
   "id": "2997f0a0-bc97-431e-895f-aa209a05551e",
   "metadata": {},
   "outputs": [],
   "source": [
    "def run_training_script(hyperparams, script_path):\n",
    "    \"\"\"\n",
    "    Run the training script with given hyperparameters.\n",
    "    \"\"\"\n",
    "    try:\n",
    "        # Base command to run the script\n",
    "        cmd = [sys.executable, '-m', script_path]\n",
    "\n",
    "        # Add hyperparameters to the command, only if they are provided (i.e., not None or default)\n",
    "        if \"sample_perc\" in hyperparams:\n",
    "            cmd.extend([\"--sample_perc\", str(hyperparams[\"sample_perc\"])])\n",
    "        if \"layers_to_take\" in hyperparams:\n",
    "            cmd.extend([\"--layers_to_take\", hyperparams[\"layers_to_take\"]])\n",
    "        if \"learning_rate\" in hyperparams:\n",
    "            cmd.extend([\"--learning_rate\", str(hyperparams[\"learning_rate\"])])\n",
    "        if \"model_name\" in hyperparams:\n",
    "            cmd.extend([\"--model_name\", hyperparams[\"model_name\"]])\n",
    "        if \"final_emb\" in hyperparams:\n",
    "            cmd.extend([\"--final_emb\", str(hyperparams[\"final_emb\"])])\n",
    "        if \"pool_type\" in hyperparams:\n",
    "            cmd.extend([\"--pool_type\", hyperparams[\"pool_type\"]])\n",
    "        if \"loss_type\" in hyperparams:\n",
    "            cmd.extend([\"--loss_type\", hyperparams[\"loss_type\"]])\n",
    "        if \"scheduler_name\" in hyperparams:\n",
    "            cmd.extend([\"--scheduler_name\", str(hyperparams[\"scheduler_name\"])])\n",
    "        if \"resize\" in hyperparams:\n",
    "            cmd.extend([\"--resize\", str(hyperparams[\"resize\"])])\n",
    "        if \"test_perc\" in hyperparams:\n",
    "            cmd.extend([\"--test_perc\", str(hyperparams[\"test_perc\"])])\n",
    "        if \"batch_size\" in hyperparams:\n",
    "            cmd.extend([\"--batch_size\", str(hyperparams[\"batch_size\"])])\n",
    "        if \"num_epochs\" in hyperparams:\n",
    "            cmd.extend([\"--num_epochs\", str(hyperparams[\"num_epochs\"])])\n",
    "        \n",
    "        # Execute the script via subprocess\n",
    "        subprocess.run(cmd, check=True)\n",
    "    \n",
    "    except subprocess.CalledProcessError as e:\n",
    "        print(f\"Error during training: {e}\")\n",
    "    \n",
    "    finally:\n",
    "        # Cleanup GPU memory (important if using GPUs)\n",
    "        torch.cuda.empty_cache()  # Clears cache from CUDA\n",
    "        gc.collect()  # Python garbage collection to free memory\n"
   ]
  },
  {
   "cell_type": "code",
   "execution_count": 14,
   "id": "7d89c341-02b8-460b-a0cc-77fc7dba0440",
   "metadata": {},
   "outputs": [],
   "source": [
    "resnet_layer_sizes = [(5, 64), (6, 128), (7,256)]\n",
    "vgg_layer_sizes = [(8, 128),(10, 128),(15, 256),(17, 256), (22, 512),(24, 512)]\n",
    "learning_rates = [1e-3, 1e-4]\n",
    "final_emb = [64, 128]\n",
    "loss_type = ['cos', 'cont']\n",
    "pool_type = ['avg', 'max']\n",
    "model_name = ['resnet', 'vgg', 'dists']\n",
    "resize = [True, False]"
   ]
  },
  {
   "cell_type": "code",
   "execution_count": 15,
   "id": "1d73aa6a-8c80-4c9e-97e1-b3f1b15bcaa2",
   "metadata": {},
   "outputs": [],
   "source": [
    "hyperparameters_list = [\n",
    "        {\n",
    "        'layers_to_take': '7_256',\n",
    "        'learning_rate': 1e-4,\n",
    "        'scheduler_name': 'cosine'\n",
    "    },\n",
    "            {\n",
    "        'layers_to_take': '7_256',\n",
    "        'learning_rate': 1e-4,\n",
    "        'scheduler_name': 'step'\n",
    "    },\n",
    "            {\n",
    "        'layers_to_take': '6_128',\n",
    "        'learning_rate': 1e-4,\n",
    "        'scheduler_name': 'cosine'\n",
    "    },\n",
    "            {\n",
    "        'layers_to_take': '6_128',\n",
    "        'learning_rate': 1e-4,\n",
    "        'scheduler_name': 'step'\n",
    "    },\n",
    "                {\n",
    "        'layers_to_take': '6_128',\n",
    "        'learning_rate': 5e-5,\n",
    "        'scheduler_name': 'cosine'\n",
    "    },\n",
    "            {\n",
    "        'layers_to_take': '6_128',\n",
    "        'learning_rate': 5e-5,\n",
    "        'scheduler_name': 'step'\n",
    "    },\n",
    "]"
   ]
  },
  {
   "cell_type": "code",
   "execution_count": 16,
   "id": "5cbea2ed-cfd3-4b31-b112-9b9bed765fb8",
   "metadata": {},
   "outputs": [],
   "source": [
    "add_to_all = {\n",
    "    'sample_perc': 1,\n",
    "    'num_epochs': 4,\n",
    "    'pool_type': 'max',\n",
    "    'loss_type': 'cos',\n",
    "    'resize': True,\n",
    "    'model_name': 'resnet',\n",
    "    'final_emb': 128,\n",
    "}\n",
    "for hp in hyperparameters_list:\n",
    "    hp.update(add_to_all)"
   ]
  },
  {
   "cell_type": "code",
   "execution_count": 17,
   "id": "46c88155-4481-47ab-b76b-391c4cc0ff69",
   "metadata": {
    "scrolled": true
   },
   "outputs": [
    {
     "data": {
      "text/html": [
       "<div>\n",
       "<style scoped>\n",
       "    .dataframe tbody tr th:only-of-type {\n",
       "        vertical-align: middle;\n",
       "    }\n",
       "\n",
       "    .dataframe tbody tr th {\n",
       "        vertical-align: top;\n",
       "    }\n",
       "\n",
       "    .dataframe thead th {\n",
       "        text-align: right;\n",
       "    }\n",
       "</style>\n",
       "<table border=\"1\" class=\"dataframe\">\n",
       "  <thead>\n",
       "    <tr style=\"text-align: right;\">\n",
       "      <th></th>\n",
       "      <th>layers_to_take</th>\n",
       "      <th>learning_rate</th>\n",
       "      <th>scheduler_name</th>\n",
       "      <th>sample_perc</th>\n",
       "      <th>num_epochs</th>\n",
       "      <th>pool_type</th>\n",
       "      <th>loss_type</th>\n",
       "      <th>resize</th>\n",
       "      <th>model_name</th>\n",
       "      <th>final_emb</th>\n",
       "    </tr>\n",
       "  </thead>\n",
       "  <tbody>\n",
       "    <tr>\n",
       "      <th>0</th>\n",
       "      <td>7_256</td>\n",
       "      <td>0.00010</td>\n",
       "      <td>cosine</td>\n",
       "      <td>1</td>\n",
       "      <td>4</td>\n",
       "      <td>max</td>\n",
       "      <td>cos</td>\n",
       "      <td>True</td>\n",
       "      <td>resnet</td>\n",
       "      <td>128</td>\n",
       "    </tr>\n",
       "    <tr>\n",
       "      <th>1</th>\n",
       "      <td>7_256</td>\n",
       "      <td>0.00010</td>\n",
       "      <td>step</td>\n",
       "      <td>1</td>\n",
       "      <td>4</td>\n",
       "      <td>max</td>\n",
       "      <td>cos</td>\n",
       "      <td>True</td>\n",
       "      <td>resnet</td>\n",
       "      <td>128</td>\n",
       "    </tr>\n",
       "    <tr>\n",
       "      <th>2</th>\n",
       "      <td>6_128</td>\n",
       "      <td>0.00010</td>\n",
       "      <td>cosine</td>\n",
       "      <td>1</td>\n",
       "      <td>4</td>\n",
       "      <td>max</td>\n",
       "      <td>cos</td>\n",
       "      <td>True</td>\n",
       "      <td>resnet</td>\n",
       "      <td>128</td>\n",
       "    </tr>\n",
       "    <tr>\n",
       "      <th>3</th>\n",
       "      <td>6_128</td>\n",
       "      <td>0.00010</td>\n",
       "      <td>step</td>\n",
       "      <td>1</td>\n",
       "      <td>4</td>\n",
       "      <td>max</td>\n",
       "      <td>cos</td>\n",
       "      <td>True</td>\n",
       "      <td>resnet</td>\n",
       "      <td>128</td>\n",
       "    </tr>\n",
       "    <tr>\n",
       "      <th>4</th>\n",
       "      <td>6_128</td>\n",
       "      <td>0.00005</td>\n",
       "      <td>cosine</td>\n",
       "      <td>1</td>\n",
       "      <td>4</td>\n",
       "      <td>max</td>\n",
       "      <td>cos</td>\n",
       "      <td>True</td>\n",
       "      <td>resnet</td>\n",
       "      <td>128</td>\n",
       "    </tr>\n",
       "    <tr>\n",
       "      <th>5</th>\n",
       "      <td>6_128</td>\n",
       "      <td>0.00005</td>\n",
       "      <td>step</td>\n",
       "      <td>1</td>\n",
       "      <td>4</td>\n",
       "      <td>max</td>\n",
       "      <td>cos</td>\n",
       "      <td>True</td>\n",
       "      <td>resnet</td>\n",
       "      <td>128</td>\n",
       "    </tr>\n",
       "  </tbody>\n",
       "</table>\n",
       "</div>"
      ],
      "text/plain": [
       "  layers_to_take  learning_rate scheduler_name  sample_perc  num_epochs  \\\n",
       "0          7_256        0.00010         cosine            1           4   \n",
       "1          7_256        0.00010           step            1           4   \n",
       "2          6_128        0.00010         cosine            1           4   \n",
       "3          6_128        0.00010           step            1           4   \n",
       "4          6_128        0.00005         cosine            1           4   \n",
       "5          6_128        0.00005           step            1           4   \n",
       "\n",
       "  pool_type loss_type  resize model_name  final_emb  \n",
       "0       max       cos    True     resnet        128  \n",
       "1       max       cos    True     resnet        128  \n",
       "2       max       cos    True     resnet        128  \n",
       "3       max       cos    True     resnet        128  \n",
       "4       max       cos    True     resnet        128  \n",
       "5       max       cos    True     resnet        128  "
      ]
     },
     "execution_count": 17,
     "metadata": {},
     "output_type": "execute_result"
    }
   ],
   "source": [
    "pd.DataFrame(hyperparameters_list)"
   ]
  },
  {
   "cell_type": "code",
   "execution_count": 18,
   "id": "3f585539-cefd-4092-a7d0-67e043c0cfa7",
   "metadata": {},
   "outputs": [
    {
     "name": "stdout",
     "output_type": "stream",
     "text": [
      "Current working directory: C:\\Users\\orenm\\BlenderShaderProject\\project_files\n"
     ]
    }
   ],
   "source": [
    "# Add the root project directory to sys.path\n",
    "project_path = \"/Users/orenm/BlenderShaderProject/project_files\"  # Adjust this to your actual project root\n",
    "sys.path.append(project_path)\n",
    "\n",
    "# Change the working directory to the project folder (optional, but helps avoid path issues)\n",
    "os.chdir(project_path)\n",
    "\n",
    "print(\"Current working directory:\", os.getcwd())  # Check if it's correct"
   ]
  },
  {
   "cell_type": "code",
   "execution_count": 19,
   "id": "3ca108cd-f24f-480b-a8b0-e7dd58bf5a5a",
   "metadata": {},
   "outputs": [
    {
     "name": "stdout",
     "output_type": "stream",
     "text": [
      "Starting training for set 1/6, with hyperparameters: {'layers_to_take': '7_256', 'learning_rate': 0.0001, 'scheduler_name': 'cosine', 'sample_perc': 1, 'num_epochs': 4, 'pool_type': 'max', 'loss_type': 'cos', 'resize': True, 'model_name': 'resnet', 'final_emb': 128}\n",
      "Training finished, Time: 2300.91\n",
      "==================================================\n",
      "Starting training for set 2/6, with hyperparameters: {'layers_to_take': '7_256', 'learning_rate': 0.0001, 'scheduler_name': 'step', 'sample_perc': 1, 'num_epochs': 4, 'pool_type': 'max', 'loss_type': 'cos', 'resize': True, 'model_name': 'resnet', 'final_emb': 128}\n",
      "Training finished, Time: 2291.21\n",
      "==================================================\n",
      "Starting training for set 3/6, with hyperparameters: {'layers_to_take': '6_128', 'learning_rate': 0.0001, 'scheduler_name': 'cosine', 'sample_perc': 1, 'num_epochs': 4, 'pool_type': 'max', 'loss_type': 'cos', 'resize': True, 'model_name': 'resnet', 'final_emb': 128}\n",
      "Training finished, Time: 1902.84\n",
      "==================================================\n",
      "Starting training for set 4/6, with hyperparameters: {'layers_to_take': '6_128', 'learning_rate': 0.0001, 'scheduler_name': 'step', 'sample_perc': 1, 'num_epochs': 4, 'pool_type': 'max', 'loss_type': 'cos', 'resize': True, 'model_name': 'resnet', 'final_emb': 128}\n",
      "Training finished, Time: 1905.79\n",
      "==================================================\n",
      "Starting training for set 5/6, with hyperparameters: {'layers_to_take': '6_128', 'learning_rate': 5e-05, 'scheduler_name': 'cosine', 'sample_perc': 1, 'num_epochs': 4, 'pool_type': 'max', 'loss_type': 'cos', 'resize': True, 'model_name': 'resnet', 'final_emb': 128}\n",
      "Training finished, Time: 1906.43\n",
      "==================================================\n",
      "Starting training for set 6/6, with hyperparameters: {'layers_to_take': '6_128', 'learning_rate': 5e-05, 'scheduler_name': 'step', 'sample_perc': 1, 'num_epochs': 4, 'pool_type': 'max', 'loss_type': 'cos', 'resize': True, 'model_name': 'resnet', 'final_emb': 128}\n",
      "Training finished, Time: 1907.19\n",
      "==================================================\n"
     ]
    },
    {
     "data": {
      "text/plain": [
       "0"
      ]
     },
     "execution_count": 19,
     "metadata": {},
     "output_type": "execute_result"
    }
   ],
   "source": [
    "os.system(\"powercfg -change -standby-timeout-ac 0\")\n",
    "\n",
    "# Loop through different sets of hyperparameters\n",
    "for i, hyperparams in enumerate(hyperparameters_list, start=1):\n",
    "    t = time.time()\n",
    "    print(f\"Starting training for set {i}/{len(hyperparameters_list)}, with hyperparameters: {hyperparams}\")\n",
    "    run_training_script(hyperparams, script_path='Logic.training_script')\n",
    "    print(f\"Training finished, Time: {round(time.time() - t, 2)}\")\n",
    "    print(\"=\" * 50)  # Separating output for clarity\n",
    "    time.sleep(5) # computer rest and avoid resource limit\n",
    "os.system(\"powercfg -change -standby-timeout-ac 20\")"
   ]
  },
  {
   "cell_type": "code",
   "execution_count": null,
   "id": "9c25905c-fd50-4a90-a9fb-d24b3700cc08",
   "metadata": {},
   "outputs": [],
   "source": []
  },
  {
   "cell_type": "code",
   "execution_count": null,
   "id": "4d712687-4661-445b-8ec2-09797e6a7cac",
   "metadata": {},
   "outputs": [],
   "source": []
  },
  {
   "cell_type": "code",
   "execution_count": null,
   "id": "c125f013-b0eb-4615-b411-9cad1692566e",
   "metadata": {},
   "outputs": [],
   "source": []
  },
  {
   "cell_type": "code",
   "execution_count": null,
   "id": "4a767a3d-e590-40e4-a1b4-d1d083b73409",
   "metadata": {},
   "outputs": [],
   "source": []
  },
  {
   "cell_type": "code",
   "execution_count": null,
   "id": "0325a9c6-b6d4-468c-afe7-15e0ee972601",
   "metadata": {},
   "outputs": [],
   "source": []
  },
  {
   "cell_type": "code",
   "execution_count": null,
   "id": "bcf1dfe8-ee58-43b4-b9ab-1a3c7bf90e86",
   "metadata": {},
   "outputs": [],
   "source": []
  }
 ],
 "metadata": {
  "kernelspec": {
   "display_name": "Python 3 (ipykernel)",
   "language": "python",
   "name": "python3"
  },
  "language_info": {
   "codemirror_mode": {
    "name": "ipython",
    "version": 3
   },
   "file_extension": ".py",
   "mimetype": "text/x-python",
   "name": "python",
   "nbconvert_exporter": "python",
   "pygments_lexer": "ipython3",
   "version": "3.11.0"
  }
 },
 "nbformat": 4,
 "nbformat_minor": 5
}
