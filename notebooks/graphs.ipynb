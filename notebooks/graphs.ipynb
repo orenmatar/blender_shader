{
 "cells": [
  {
   "cell_type": "code",
   "execution_count": 1,
   "id": "3619f2f4-c6b7-4c50-a325-b84a8b4861d1",
   "metadata": {},
   "outputs": [],
   "source": [
    "%load_ext autoreload\n",
    "%matplotlib ipympl\n",
    "%matplotlib inline\n",
    "import networkx as nx\n",
    "import matplotlib.pyplot as plt\n",
    "import bpy\n",
    "from bpy.types import bpy_prop_array\n",
    "import mathutils\n",
    "import numpy as np\n",
    "import clipboard\n",
    "import json"
   ]
  },
  {
   "cell_type": "code",
   "execution_count": 2,
   "id": "894c1009-18eb-452c-96ef-4efe4acbb5d2",
   "metadata": {},
   "outputs": [],
   "source": [
    "import sys\n",
    "sys.path.append('/Users/orenm/BlenderShaderProject/project_files/')"
   ]
  },
  {
   "cell_type": "code",
   "execution_count": 3,
   "id": "5d0a8dc7-7d88-4c1d-9005-80f33d597780",
   "metadata": {},
   "outputs": [],
   "source": [
    "%autoreload 2\n",
    "from Logic.node_readers_writers import *\n",
    "from Logic.network_manager import NetworkManager\n",
    "from Logic.meta_network import *\n",
    "from Logic.structures_definitions import *\n",
    "from Logic.variations_creator import *"
   ]
  },
  {
   "cell_type": "code",
   "execution_count": 13,
   "id": "5f17d464-bbf6-412f-8ff8-1f69b5e76306",
   "metadata": {},
   "outputs": [],
   "source": [
    "self = NetworkManager()\n",
    "self.initialize_network()\n",
    "self.generate_random_network(n_additions=4)\n",
    "self.finish_network()\n",
    "\n",
    "code = self.generate_code(with_initialization_code=True)\n",
    "clipboard.copy(code)\n",
    "# self.draw_network()"
   ]
  },
  {
   "cell_type": "code",
   "execution_count": null,
   "id": "16bc502c-1b07-44af-b8ca-89fc0baa8d0b",
   "metadata": {},
   "outputs": [],
   "source": []
  },
  {
   "cell_type": "code",
   "execution_count": 23,
   "id": "881b0028-8d5b-4d53-9c56-d20d5cf15ec9",
   "metadata": {},
   "outputs": [],
   "source": [
    "def save_graph(graph, filename):\n",
    "    with open(filename, 'w') as f:\n",
    "        json.dump(nx.node_link_data(graph, edges='edges'), f)\n",
    "\n",
    "def load_graph(filename):\n",
    "    with open(filename, 'r') as f:\n",
    "        return nx.node_link_graph(json.load(f), edges='edges')"
   ]
  },
  {
   "cell_type": "code",
   "execution_count": 8,
   "id": "cc66f209-62bf-499c-af71-84eb52ce1e54",
   "metadata": {},
   "outputs": [
    {
     "name": "stdout",
     "output_type": "stream",
     "text": [
      "Info: Deleted 3 data-block(s)\n"
     ]
    }
   ],
   "source": [
    "exec(code)"
   ]
  },
  {
   "cell_type": "code",
   "execution_count": null,
   "id": "32a2c6af-ad0a-4fcf-91d1-f5aa1b4e903b",
   "metadata": {},
   "outputs": [],
   "source": []
  },
  {
   "cell_type": "code",
   "execution_count": null,
   "id": "87aee15e-5b8e-4ebe-8fe0-9cc20babab0b",
   "metadata": {},
   "outputs": [],
   "source": []
  },
  {
   "cell_type": "code",
   "execution_count": null,
   "id": "92ce0c33-12e3-4a22-ad3b-7120c323f93b",
   "metadata": {},
   "outputs": [],
   "source": []
  },
  {
   "cell_type": "code",
   "execution_count": null,
   "id": "3f4baf6c-3a07-47db-bd99-314d3e2e2f8b",
   "metadata": {},
   "outputs": [],
   "source": [
    "def save_graph_with_backup(graph, filename):\n",
    "    if os.path.exists(filename):\n",
    "        backup_filename = f\"{filename}.backup\"\n",
    "        os.rename(filename, backup_filename)\n",
    "        print(f\"Existing file backed up as: {backup_filename}\")\n",
    "\n",
    "    with open(filename, 'w') as f:\n",
    "        json.dump(nx.node_link_data(graph), f)\n",
    "\n",
    "def append_to_graph_log(graph_update, log_filename):\n",
    "    with open(log_filename, 'a') as f:\n",
    "        json.dump(graph_update, f)\n",
    "        f.write('\\n')  # Separate entries by newline\n",
    "\n",
    "def reconstruct_graph_from_log(log_filename):\n",
    "    G = nx.Graph()\n",
    "    with open(log_filename, 'r') as f:\n",
    "        for line in f:\n",
    "            update = json.loads(line)\n",
    "            G.add_nodes_from(update.get('nodes', []))\n",
    "            G.add_edges_from(update.get('edges', []))\n",
    "    return G"
   ]
  },
  {
   "cell_type": "code",
   "execution_count": null,
   "id": "6fa392f5-8c30-4507-a6d5-caf104d1e1ed",
   "metadata": {},
   "outputs": [],
   "source": []
  },
  {
   "cell_type": "code",
   "execution_count": 41,
   "id": "732b9638-ade7-442d-8838-613b64ab6d14",
   "metadata": {},
   "outputs": [],
   "source": [
    "manager = MetaNetworkManager(ALL_META_NODES, max_layers=2, n_additions=3)\n",
    "manager.generate_network()\n",
    "nm = manager.meta_network_to_flat_network()\n",
    "\n",
    "nodes_to_remove = [x for x in nm.network.nodes() if x not in ['OutputNode_1', 'InputNode_1']]\n",
    "np.random.shuffle(nodes_to_remove)\n",
    "\n",
    "nm_for_change = nm.copy()\n",
    "# get a random order of all nodes that need to be removed until we have an empty network\n",
    "process = []\n",
    "for node in nodes_to_remove:\n",
    "    twoway_variation = create_remove_node_variation(nm_for_change, node)\n",
    "    process.append(twoway_variation)\n",
    "    for variation in twoway_variation.steps_forward:\n",
    "        apply_variation(nm_for_change, variation)\n",
    "\n",
    "for sub_process in reversed(process):\n",
    "    for variation in sub_process.steps_backward:\n",
    "        apply_variation(nm_for_change, variation)"
   ]
  },
  {
   "cell_type": "code",
   "execution_count": null,
   "id": "1cd975d1-1554-45d6-8ff7-544e1ef5a1e4",
   "metadata": {},
   "outputs": [],
   "source": []
  },
  {
   "cell_type": "code",
   "execution_count": null,
   "id": "89f334bc-633e-4652-8468-f72375cf7e32",
   "metadata": {},
   "outputs": [],
   "source": []
  },
  {
   "cell_type": "code",
   "execution_count": null,
   "id": "740bacc1-410b-46aa-b570-3f58f51081d0",
   "metadata": {},
   "outputs": [],
   "source": [
    "def change_seed(nm):\n",
    "    return non_structural_changes(nm, 3, ParamRequestType.SEED)\n",
    "\n",
    "def change_numeric(nm):\n",
    "    return non_structural_changes(nm, 3, ParamRequestType.NUMERIC)\n",
    "\n",
    "def change_params(nm):\n",
    "    return non_structural_changes(nm, 3, ParamRequestType.NON_SEED)\n",
    "\n",
    "funcs = [change_seed, change_numeric, change_params, add_random_node_on_edge, add_random_edge, remove_random_edge, remove_random_node]\n"
   ]
  },
  {
   "cell_type": "code",
   "execution_count": 8,
   "id": "e427ad25-9f1a-4db9-b1b4-4f1c066617aa",
   "metadata": {},
   "outputs": [],
   "source": [
    "for i in range(1000):\n",
    "    manager = MetaNetworkManager(ALL_META_NODES, max_layers=2, n_additions=3)\n",
    "    manager.generate_network()\n",
    "    nm = manager.meta_network_to_flat_network()\n",
    "\n",
    "    for i in range(5):\n",
    "        func = np.random.choice(funcs)\n",
    "        variation_desc = func(nm)\n",
    "        for variation in variation_desc.steps_forward:\n",
    "            apply_variation(nm, variation)\n",
    "    \n",
    "    old_network = nm.copy()\n",
    "    func = np.random.choice(funcs)   \n",
    "    variation_desc = func(nm)\n",
    "    for variation in variation_desc.steps_forward:\n",
    "        apply_variation(nm, variation)\n",
    "    \n",
    "    for variation in variation_desc.steps_backward:\n",
    "        apply_variation(nm, variation)\n",
    "    \n",
    "    should_compare_props = func in [change_seed, change_numeric, change_params]\n",
    "    nodes, edges = nm.network_data_for_comparison()\n",
    "    old_nodes, old_edges = old_network.network_data_for_comparison()\n",
    "    assert NetworkManager.compare_networks(nodes, edges, old_nodes, old_edges, compare_node_properties=True)"
   ]
  },
  {
   "cell_type": "code",
   "execution_count": null,
   "id": "ec007735-82e8-4b0d-ac4d-aaa520b88bad",
   "metadata": {},
   "outputs": [],
   "source": []
  },
  {
   "cell_type": "code",
   "execution_count": null,
   "id": "18a20e12-c8d4-45bd-9b1c-87fcda4a5b23",
   "metadata": {},
   "outputs": [],
   "source": []
  },
  {
   "cell_type": "code",
   "execution_count": null,
   "id": "035d5f24-a591-4fbd-853c-489f910115de",
   "metadata": {},
   "outputs": [],
   "source": []
  },
  {
   "cell_type": "code",
   "execution_count": null,
   "id": "27be713e-6497-478e-9426-f01e62582bee",
   "metadata": {},
   "outputs": [],
   "source": []
  },
  {
   "cell_type": "code",
   "execution_count": null,
   "id": "dfe077d7-c0d1-4ded-9866-d3d9523c424d",
   "metadata": {},
   "outputs": [],
   "source": []
  },
  {
   "cell_type": "code",
   "execution_count": null,
   "id": "4589f776-6e1d-4168-a8a5-738420e01a5e",
   "metadata": {},
   "outputs": [],
   "source": []
  },
  {
   "cell_type": "code",
   "execution_count": null,
   "id": "f34ac915-360c-4e93-845a-abc66bfbba83",
   "metadata": {},
   "outputs": [],
   "source": []
  }
 ],
 "metadata": {
  "kernelspec": {
   "display_name": "Python 3 (ipykernel)",
   "language": "python",
   "name": "python3"
  },
  "language_info": {
   "codemirror_mode": {
    "name": "ipython",
    "version": 3
   },
   "file_extension": ".py",
   "mimetype": "text/x-python",
   "name": "python",
   "nbconvert_exporter": "python",
   "pygments_lexer": "ipython3",
   "version": "3.11.0"
  }
 },
 "nbformat": 4,
 "nbformat_minor": 5
}
