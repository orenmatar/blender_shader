{
 "cells": [
  {
   "cell_type": "code",
   "execution_count": 1,
   "id": "3619f2f4-c6b7-4c50-a325-b84a8b4861d1",
   "metadata": {},
   "outputs": [],
   "source": [
    "%load_ext autoreload\n",
    "import networkx as nx\n",
    "import matplotlib.pyplot as plt\n",
    "import bpy\n",
    "from bpy.types import bpy_prop_array\n",
    "import mathutils"
   ]
  },
  {
   "cell_type": "code",
   "execution_count": 2,
   "id": "894c1009-18eb-452c-96ef-4efe4acbb5d2",
   "metadata": {},
   "outputs": [],
   "source": [
    "import sys\n",
    "sys.path.append('/Users/orenm/BlenderShaderProject/project_files/')"
   ]
  },
  {
   "cell_type": "code",
   "execution_count": 13,
   "id": "5d0a8dc7-7d88-4c1d-9005-80f33d597780",
   "metadata": {},
   "outputs": [],
   "source": [
    "%autoreload 2\n",
    "from Logic.extract_node_data import get_shader_node_data"
   ]
  },
  {
   "cell_type": "code",
   "execution_count": 14,
   "id": "e821e509-ac8f-4540-a96a-005fccc079a6",
   "metadata": {},
   "outputs": [],
   "source": [
    "data = get_shader_node_data()"
   ]
  },
  {
   "cell_type": "code",
   "execution_count": null,
   "id": "c5c63688-fc6c-4edd-9eae-d2845260a7df",
   "metadata": {},
   "outputs": [],
   "source": []
  },
  {
   "cell_type": "code",
   "execution_count": null,
   "id": "2d09d8e9-6885-49c7-9aca-62a9aafc8743",
   "metadata": {},
   "outputs": [],
   "source": []
  },
  {
   "cell_type": "code",
   "execution_count": 5,
   "id": "b521b827-4ca4-4d95-b1be-f2252790c407",
   "metadata": {},
   "outputs": [],
   "source": [
    "G = nx.DiGraph()"
   ]
  },
  {
   "cell_type": "code",
   "execution_count": 6,
   "id": "b2d83a1d-b686-40ab-b0f5-57bf187f0ab8",
   "metadata": {},
   "outputs": [],
   "source": [
    "G.add_node(\"Noise_texture\")"
   ]
  },
  {
   "cell_type": "code",
   "execution_count": 7,
   "id": "7bcd8482-234e-4c8d-af33-09d8163a20c9",
   "metadata": {},
   "outputs": [],
   "source": [
    "# define nodes:\n",
    "# name: categorical properties, numerical properties. all with defaults.\n",
    "# numeric - sometimes have a range\n",
    "# always make them 4d"
   ]
  },
  {
   "cell_type": "code",
   "execution_count": 8,
   "id": "b438800f-c15c-4599-b13e-8b9e30cf50b4",
   "metadata": {},
   "outputs": [],
   "source": [
    "def get_shader_node_by_name(name):\n",
    "    return bpy.data.node_groups.new(\"TempGroup\", 'ShaderNodeTree').nodes.new(\"ShaderNode\" + name)"
   ]
  },
  {
   "cell_type": "code",
   "execution_count": 10,
   "id": "ac207d19-7008-4f18-b81f-e4ebfafdfb0e",
   "metadata": {},
   "outputs": [],
   "source": [
    "node = get_shader_node_by_name('ValToRGB')"
   ]
  },
  {
   "cell_type": "code",
   "execution_count": 26,
   "id": "ff5d5810-cf9c-4234-bbc0-2fcac11b6f7c",
   "metadata": {},
   "outputs": [
    {
     "data": {
      "text/plain": [
       "bpy.data.node_groups['TempGroup.001'].nodes[\"Color Ramp\"].color_ramp.elements[0]"
      ]
     },
     "execution_count": 26,
     "metadata": {},
     "output_type": "execute_result"
    }
   ],
   "source": [
    "node.color_ramp.elements[0]"
   ]
  },
  {
   "cell_type": "code",
   "execution_count": null,
   "id": "ced4b64a-ce76-4c93-9cce-edc804eb2115",
   "metadata": {},
   "outputs": [],
   "source": []
  },
  {
   "cell_type": "code",
   "execution_count": null,
   "id": "8d3b1814-6b5b-4a8b-a937-526b8b9fdc81",
   "metadata": {},
   "outputs": [],
   "source": []
  },
  {
   "cell_type": "code",
   "execution_count": 75,
   "id": "5cabaf76-0b41-4047-9d88-f48535d9222e",
   "metadata": {},
   "outputs": [
    {
     "name": "stdout",
     "output_type": "stream",
     "text": [
      "Value <class 'float'> False\n",
      "Value <class 'float'> False\n",
      "Value <class 'float'> False\n"
     ]
    }
   ],
   "source": [
    "for socket in node.inputs:\n",
    "    print(socket.name, type(socket.default_value), isinstance(socket.default_value, (bpy_prop_array, mathutils.Euler)))"
   ]
  },
  {
   "cell_type": "markdown",
   "id": "3585dc9e-b541-4ed5-ab22-05838a78a26d",
   "metadata": {},
   "source": [
    "inputs, outputs, params\n",
    "\n",
    "{node name: {inputs: {name: {type: t, default:0, range: []}}}\n",
    "outputs: {name: {type: t}}\n",
    "params: {}\n",
    "}\n",
    "\n",
    "whats in play\n",
    "{node name: inputs: name: bool, params: bool}"
   ]
  },
  {
   "cell_type": "code",
   "execution_count": null,
   "id": "3a98317c-07b5-49c2-bcae-026ed3e33445",
   "metadata": {},
   "outputs": [],
   "source": []
  },
  {
   "cell_type": "code",
   "execution_count": null,
   "id": "96f93838-fdbf-4260-b25b-4833bdfb58fc",
   "metadata": {},
   "outputs": [],
   "source": []
  },
  {
   "cell_type": "code",
   "execution_count": 8,
   "id": "36007712-75f1-4897-8fd3-bbe98b317ccd",
   "metadata": {},
   "outputs": [],
   "source": [
    "nodes = []\n",
    "# Get all node types\n",
    "for node in dir(bpy.types):\n",
    "    if node.startswith(\"ShaderNode\"):  # Filter only shader nodes\n",
    "        nodes.append(node)"
   ]
  },
  {
   "cell_type": "code",
   "execution_count": 9,
   "id": "ac4e2626-61b1-43d3-b8c1-138187bb2c35",
   "metadata": {},
   "outputs": [],
   "source": [
    "temp_node = bpy.data.node_groups.new(\"TempGroup\", 'ShaderNodeTree').nodes.new('ShaderNodeTexNoise')"
   ]
  },
  {
   "cell_type": "code",
   "execution_count": 14,
   "id": "31946259-4230-40c1-b184-12c4cd4da683",
   "metadata": {},
   "outputs": [],
   "source": [
    "for socket in temp_node.outputs:\n",
    "    pass"
   ]
  },
  {
   "cell_type": "code",
   "execution_count": 15,
   "id": "978ebde1-2677-4291-9a1f-5ad978e6b122",
   "metadata": {},
   "outputs": [
    {
     "data": {
      "text/plain": [
       "bpy.data.node_groups['TempGroup.003'].nodes[\"Noise Texture\"].outputs[1]"
      ]
     },
     "execution_count": 15,
     "metadata": {},
     "output_type": "execute_result"
    }
   ],
   "source": [
    "socket"
   ]
  },
  {
   "cell_type": "code",
   "execution_count": null,
   "id": "ec4bacfa-74f1-4002-ac2d-5b938fe7ac37",
   "metadata": {},
   "outputs": [],
   "source": []
  },
  {
   "cell_type": "code",
   "execution_count": 13,
   "id": "f2aae635-e40e-4f91-a73b-ac26a3bb6217",
   "metadata": {},
   "outputs": [],
   "source": [
    "props = {}\n",
    "for prop_name, prop in temp_node.bl_rna.properties.items():\n",
    "    props[prop_name] = prop"
   ]
  },
  {
   "cell_type": "code",
   "execution_count": 16,
   "id": "8370a1d4-a1f3-4583-bd1c-96c83b76629e",
   "metadata": {},
   "outputs": [],
   "source": [
    "p = props['inputs']"
   ]
  },
  {
   "cell_type": "code",
   "execution_count": 17,
   "id": "5126301e-d89f-4319-986d-db772350b768",
   "metadata": {},
   "outputs": [
    {
     "data": {
      "text/plain": [
       "<bpy_struct, CollectionProperty(\"inputs\") at 0x00007FFFA5E01D50>"
      ]
     },
     "execution_count": 17,
     "metadata": {},
     "output_type": "execute_result"
    }
   ],
   "source": [
    "p."
   ]
  },
  {
   "cell_type": "code",
   "execution_count": null,
   "id": "68dee450-a63a-4670-8dc8-5dc19aa5e40f",
   "metadata": {},
   "outputs": [],
   "source": []
  },
  {
   "cell_type": "code",
   "execution_count": null,
   "id": "740934b2-defb-4943-87fa-12038d524ca6",
   "metadata": {},
   "outputs": [],
   "source": []
  },
  {
   "cell_type": "code",
   "execution_count": null,
   "id": "35866b98-b670-4cd1-82a5-73be714d6e56",
   "metadata": {},
   "outputs": [],
   "source": []
  },
  {
   "cell_type": "code",
   "execution_count": null,
   "id": "dc18e7ca-f2a9-40c0-94ae-a5eaa0ab6517",
   "metadata": {},
   "outputs": [],
   "source": []
  },
  {
   "cell_type": "code",
   "execution_count": null,
   "id": "42e28eb1-7c7f-4a74-afe6-cc1ba495432f",
   "metadata": {},
   "outputs": [],
   "source": []
  },
  {
   "cell_type": "code",
   "execution_count": 18,
   "id": "2d3059b6-437e-442b-8713-aa8b7a88d5da",
   "metadata": {},
   "outputs": [
    {
     "data": {
      "image/png": "[encoded data removed]",
      "text/plain": [
       "<Figure size 640x480 with 1 Axes>"
      ]
     },
     "metadata": {},
     "output_type": "display_data"
    }
   ],
   "source": [
    "#try draw_spectral, planer\n",
    "nx.draw_spring(G, with_labels=True, node_size=5000, node_shape='s')"
   ]
  },
  {
   "cell_type": "code",
   "execution_count": null,
   "id": "77f5db90-4dc9-4b25-a0e8-5d49c45ea1bc",
   "metadata": {},
   "outputs": [],
   "source": []
  },
  {
   "cell_type": "code",
   "execution_count": null,
   "id": "97890fad-3c0a-431b-96b7-fc272b80e37e",
   "metadata": {},
   "outputs": [],
   "source": []
  },
  {
   "cell_type": "code",
   "execution_count": null,
   "id": "5d43574c-c55c-4246-91dd-e06867eee6b9",
   "metadata": {},
   "outputs": [],
   "source": []
  }
 ],
 "metadata": {
  "kernelspec": {
   "display_name": "Python 3 (ipykernel)",
   "language": "python",
   "name": "python3"
  },
  "language_info": {
   "codemirror_mode": {
    "name": "ipython",
    "version": 3
   },
   "file_extension": ".py",
   "mimetype": "text/x-python",
   "name": "python",
   "nbconvert_exporter": "python",
   "pygments_lexer": "ipython3",
   "version": "3.11.0"
  }
 },
 "nbformat": 4,
 "nbformat_minor": 5
}
