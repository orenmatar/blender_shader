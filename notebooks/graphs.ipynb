{
 "cells": [
  {
   "cell_type": "code",
   "execution_count": 1,
   "id": "3619f2f4-c6b7-4c50-a325-b84a8b4861d1",
   "metadata": {},
   "outputs": [],
   "source": [
    "%load_ext autoreload\n",
    "import networkx as nx\n",
    "import matplotlib.pyplot as plt\n",
    "import bpy\n",
    "from bpy.types import bpy_prop_array\n",
    "import mathutils"
   ]
  },
  {
   "cell_type": "code",
   "execution_count": 2,
   "id": "894c1009-18eb-452c-96ef-4efe4acbb5d2",
   "metadata": {},
   "outputs": [],
   "source": [
    "import sys\n",
    "sys.path.append('/Users/orenm/BlenderShaderProject/project_files/')"
   ]
  },
  {
   "cell_type": "code",
   "execution_count": 3,
   "id": "5d0a8dc7-7d88-4c1d-9005-80f33d597780",
   "metadata": {},
   "outputs": [],
   "source": [
    "%autoreload 2\n",
    "from Logic.node_readers_writers import *"
   ]
  },
  {
   "cell_type": "code",
   "execution_count": null,
   "id": "5ae1f5ef-0e7c-4889-a074-82057f4f7c92",
   "metadata": {},
   "outputs": [],
   "source": []
  },
  {
   "cell_type": "code",
   "execution_count": 125,
   "id": "d41deba2-6220-46b3-a9bb-c21ded5d3161",
   "metadata": {},
   "outputs": [],
   "source": [
    "from collections import defaultdict\n",
    "\n",
    "class NetworkManager(object):\n",
    "    NODE_TYPES = ['CombineXYZ', 'Mapping',\n",
    "    'Math', 'MixFloat', 'MixVector', 'SeparateXYZ', 'TexCoord', 'TexGabor', 'TexGradient',\n",
    "    'TexNoise', 'TexVoronoiF', 'TexWave', 'ValToRGB', 'Value', 'VectorMath']\n",
    "    NODE_TYPES = {name: globals()[name] for name in NODE_TYPES if name in globals()}\n",
    "    \n",
    "    def __init__(self):\n",
    "        self.network = nx.MultiDiGraph()\n",
    "        self.nodes = defaultdict(int)    \n",
    "    \n",
    "    def add_node(self, node_type_name):\n",
    "        self.nodes[node_type_name] += 1\n",
    "        node_name = node_type_name + f'_{self.nodes[node_type_name]}'\n",
    "        node_type = self.NODE_TYPES[node_type_name]\n",
    "        properties = {'numeric': {key: param.default for key, param in node_type.NUMERIC.items()},\n",
    "                     'categorical': {key: param.default for key, param in node_type.CATEGORICAL.items()}}\n",
    "        # properties.update({key: param.default for key, param in node_type.CATEGORICAL.items()})\n",
    "        # properties.update({key: param.default for key, param in node_type.NUMERIC.items()})\n",
    "        self.network.add_node(node_name, **properties)\n",
    "        return node_name\n",
    "\n",
    "    def add_edge(self, node1, node2, out1, in2):\n",
    "        nm.network.add_edge(node1, node2, **{'out': out1, 'in': in2}, key=in2)\n",
    "        # old_attr = nm.network.nodes()[node2][in2]\n",
    "        # nx.set_node_attributes(nm.network, {node2:{in2: f'INPUT_{old_attr}'}})\n",
    "\n",
    "    def remove_edge(self, node1, node2, in2):\n",
    "        nm.network.remove_edge(node1, node2, key=in2)\n",
    "        # old_attr = nm.network.nodes()[node2][in2]\n",
    "        # nx.set_node_attributes(nm.network, {node2: {in2: eval(old_attr.replace('INPUT_', ''))}})\n",
    "\n",
    "    def to_my_node(self, node_name):\n",
    "        node_type = NODE_TYPES[node_name]\n",
    "        node_data = nm.network.nodes()[node_name]\n",
    "        input_data = [x[2]['in'] for x in nm.network.in_edges(node_name, data=True)]\n",
    "        return node_type(input_data, node_data['numeric'], node_data['categorical']) "
   ]
  },
  {
   "cell_type": "code",
   "execution_count": 126,
   "id": "05985334-4c05-4da8-a0fd-cd93ac0ce768",
   "metadata": {},
   "outputs": [],
   "source": [
    "nm = NetworkManager()"
   ]
  },
  {
   "cell_type": "code",
   "execution_count": 127,
   "id": "334cbe02-3fe6-4590-899f-415e0a50ff2b",
   "metadata": {},
   "outputs": [],
   "source": [
    "outputs = nm.NODE_TYPES['TexNoise'].OUTPUTS"
   ]
  },
  {
   "cell_type": "code",
   "execution_count": 128,
   "id": "299c80c4-bece-41a5-b828-7797f2160086",
   "metadata": {},
   "outputs": [],
   "source": [
    "inputs = nm.NODE_TYPES['TexNoise'].get_inputs()"
   ]
  },
  {
   "cell_type": "code",
   "execution_count": 129,
   "id": "f43a05c4-9e3e-4865-b93e-cb83b4574d1e",
   "metadata": {},
   "outputs": [],
   "source": [
    "out1 = list(outputs)[0]\n",
    "in2 = list(inputs)[0]"
   ]
  },
  {
   "cell_type": "code",
   "execution_count": 130,
   "id": "9adc5bac-59e4-43df-aa11-7f2ff74ad381",
   "metadata": {},
   "outputs": [],
   "source": [
    "node1 = nm.add_node('TexVoronoiF')\n",
    "node2 = nm.add_node('TexVoronoiF')"
   ]
  },
  {
   "cell_type": "code",
   "execution_count": 131,
   "id": "0e114b42-7150-432c-a68d-a0e3e9f8e672",
   "metadata": {},
   "outputs": [],
   "source": [
    "nm.add_edge(node1, node2, out1, in2)"
   ]
  },
  {
   "cell_type": "code",
   "execution_count": 102,
   "id": "69c1582e-83ca-43d4-9005-d7b72b343ddb",
   "metadata": {},
   "outputs": [
    {
     "data": {
      "text/plain": [
       "{'numeric': {'Vector': (0, 0, 0), 'Scale': 5, 'Randomness': 1},\n",
       " 'categorical': {'distance': 'EUCLIDEAN'}}"
      ]
     },
     "execution_count": 102,
     "metadata": {},
     "output_type": "execute_result"
    }
   ],
   "source": [
    "nm.network.nodes()['TexVoronoiF_2']"
   ]
  },
  {
   "cell_type": "code",
   "execution_count": 103,
   "id": "a17d8ff6-abc5-452d-a991-ba6a1b98955d",
   "metadata": {},
   "outputs": [
    {
     "data": {
      "text/plain": [
       "['TexVoronoiF_1']"
      ]
     },
     "execution_count": 103,
     "metadata": {},
     "output_type": "execute_result"
    }
   ],
   "source": [
    "list(nm.network.predecessors('TexVoronoiF_2'))"
   ]
  },
  {
   "cell_type": "code",
   "execution_count": 110,
   "id": "020c1390-3848-476b-be7e-f412cd4e3b04",
   "metadata": {},
   "outputs": [
    {
     "data": {
      "text/plain": [
       "InMultiEdgeDataView([('TexVoronoiF_1', 'TexVoronoiF_2', {'out': 'Color', 'in': 'Vector'})])"
      ]
     },
     "execution_count": 110,
     "metadata": {},
     "output_type": "execute_result"
    }
   ],
   "source": [
    "nm.network.in_edges(node2, data=True)"
   ]
  },
  {
   "cell_type": "code",
   "execution_count": 105,
   "id": "1c7a7240-4d6c-43a4-a0f0-dc5f84b657da",
   "metadata": {},
   "outputs": [
    {
     "data": {
      "text/plain": [
       "{'out': 'Color', 'in': 'Vector'}"
      ]
     },
     "execution_count": 105,
     "metadata": {},
     "output_type": "execute_result"
    }
   ],
   "source": [
    "nm.network.edges['TexVoronoiF_1', 'TexVoronoiF_2', in2]"
   ]
  },
  {
   "cell_type": "code",
   "execution_count": 119,
   "id": "1ec9a56c-03bb-484c-a244-0ec1766c25b4",
   "metadata": {},
   "outputs": [],
   "source": [
    "node_data = nm.network.nodes()[node2]\n",
    "input_data = [x[2]['in'] for x in nm.network.in_edges(node2, data=True)]"
   ]
  },
  {
   "cell_type": "code",
   "execution_count": 122,
   "id": "554e9bf0-fe03-4c77-930a-8d8283ee1dc3",
   "metadata": {},
   "outputs": [],
   "source": [
    "tex_node = TexVoronoiF(input_data, node_data['numeric'], node_data['categorical'])"
   ]
  },
  {
   "cell_type": "code",
   "execution_count": 73,
   "id": "81cbc2bf-a39b-4857-9d05-46692b837c77",
   "metadata": {},
   "outputs": [],
   "source": [
    "nm.remove_edge(node1, node2, in2)"
   ]
  },
  {
   "cell_type": "code",
   "execution_count": 74,
   "id": "3e821c7e-702a-4281-85ca-f8b4630babb6",
   "metadata": {},
   "outputs": [
    {
     "data": {
      "text/plain": [
       "{'distance': 'EUCLIDEAN', 'Vector': (0, 0, 0), 'Scale': 5, 'Randomness': 1}"
      ]
     },
     "execution_count": 74,
     "metadata": {},
     "output_type": "execute_result"
    }
   ],
   "source": [
    "nm.network.nodes()['TexVoronoiF_2']"
   ]
  },
  {
   "cell_type": "code",
   "execution_count": null,
   "id": "d6de03a8-f5be-4264-9854-774185ace556",
   "metadata": {},
   "outputs": [],
   "source": []
  },
  {
   "cell_type": "code",
   "execution_count": null,
   "id": "aa337729-88d8-4be9-8e41-a973b82cfe49",
   "metadata": {},
   "outputs": [],
   "source": []
  },
  {
   "cell_type": "code",
   "execution_count": null,
   "id": "ac9708c6-f6a6-4620-a9b8-e304774f6961",
   "metadata": {},
   "outputs": [],
   "source": [
    "# initialize a network from start to end or end to start\n",
    "# just randomly connect some\n",
    "# verify complete network\n",
    "# randomize values of node"
   ]
  },
  {
   "cell_type": "code",
   "execution_count": null,
   "id": "05d6bcf5-3044-480b-9d2d-c189e1506a7b",
   "metadata": {},
   "outputs": [],
   "source": []
  },
  {
   "cell_type": "code",
   "execution_count": 64,
   "id": "2d3059b6-437e-442b-8713-aa8b7a88d5da",
   "metadata": {},
   "outputs": [
    {
     "data": {
      "image/png": "[encoded data removed]",
      "text/plain": [
       "<Figure size 640x480 with 1 Axes>"
      ]
     },
     "metadata": {},
     "output_type": "display_data"
    }
   ],
   "source": [
    "#try draw_spectral, draw_planar, draw_spring\n",
    "nx.draw_planar(nm.network, with_labels=True, node_size=5000, node_shape='s')"
   ]
  },
  {
   "cell_type": "code",
   "execution_count": null,
   "id": "8aacd92b-f0fd-49d2-a35b-650ea5938393",
   "metadata": {},
   "outputs": [],
   "source": []
  },
  {
   "cell_type": "code",
   "execution_count": null,
   "id": "a3f9586f-e6fd-44b4-9ef3-0b8900802abd",
   "metadata": {},
   "outputs": [],
   "source": []
  },
  {
   "cell_type": "code",
   "execution_count": null,
   "id": "03f712bd-b4dc-4e46-9b74-305116c45286",
   "metadata": {},
   "outputs": [],
   "source": []
  },
  {
   "cell_type": "code",
   "execution_count": null,
   "id": "77f5db90-4dc9-4b25-a0e8-5d49c45ea1bc",
   "metadata": {},
   "outputs": [],
   "source": []
  },
  {
   "cell_type": "code",
   "execution_count": null,
   "id": "97890fad-3c0a-431b-96b7-fc272b80e37e",
   "metadata": {},
   "outputs": [],
   "source": []
  },
  {
   "cell_type": "code",
   "execution_count": null,
   "id": "5d43574c-c55c-4246-91dd-e06867eee6b9",
   "metadata": {},
   "outputs": [],
   "source": []
  }
 ],
 "metadata": {
  "kernelspec": {
   "display_name": "Python 3 (ipykernel)",
   "language": "python",
   "name": "python3"
  },
  "language_info": {
   "codemirror_mode": {
    "name": "ipython",
    "version": 3
   },
   "file_extension": ".py",
   "mimetype": "text/x-python",
   "name": "python",
   "nbconvert_exporter": "python",
   "pygments_lexer": "ipython3",
   "version": "3.11.0"
  }
 },
 "nbformat": 4,
 "nbformat_minor": 5
}
