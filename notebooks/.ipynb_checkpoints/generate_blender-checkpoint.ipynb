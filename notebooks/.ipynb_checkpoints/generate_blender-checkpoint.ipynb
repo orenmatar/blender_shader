{
 "cells": [
  {
   "cell_type": "code",
   "execution_count": 1,
   "id": "9915f3d9-54db-4d5d-ae68-3f9ce88fde7d",
   "metadata": {},
   "outputs": [],
   "source": [
    "import bpy"
   ]
  },
  {
   "cell_type": "code",
   "execution_count": 2,
   "id": "e99d0e29-e80c-404e-83be-09d3a1e3db57",
   "metadata": {},
   "outputs": [],
   "source": [
    "import cProfile\n",
    "from IPython.display import Image\n",
    "from pstats import Stats\n",
    "\n",
    "# pip install gprof2dot\n",
    "\n",
    "def profile(exec_code):\n",
    "    cProfile.run(exec_code, filename='/tmp/cprof.pstats')\n",
    "    !gprof2dot -f pstats /tmp/cprof.pstats | dot -Tpng -o /tmp/output.png\n",
    "    return Image(filename='/tmp/output.png')"
   ]
  },
  {
   "cell_type": "code",
   "execution_count": 3,
   "id": "86e64d9a-6077-423b-a60c-2b0217a33b43",
   "metadata": {},
   "outputs": [
    {
     "data": {
      "text/plain": [
       "[bpy.data.objects['Camera'],\n",
       " bpy.data.objects['Cube'],\n",
       " bpy.data.objects['Light']]"
      ]
     },
     "execution_count": 3,
     "metadata": {},
     "output_type": "execute_result"
    }
   ],
   "source": [
    "list(bpy.data.objects)"
   ]
  },
  {
   "cell_type": "code",
   "execution_count": 4,
   "id": "8fcba64f-4c7a-410c-8cc9-7a266ea4edae",
   "metadata": {},
   "outputs": [],
   "source": [
    "bpy.context.scene.render.filepath = 'C:/Users/orenm/Desktop/test.png'\n",
    "bpy.context.scene.render.image_settings.file_format='PNG'"
   ]
  },
  {
   "cell_type": "code",
   "execution_count": 9,
   "id": "3bcddc9e-a8ae-43c2-801b-1ac44c0b58f3",
   "metadata": {},
   "outputs": [
    {
     "data": {
      "text/plain": [
       "{'FINISHED'}"
      ]
     },
     "execution_count": 9,
     "metadata": {},
     "output_type": "execute_result"
    }
   ],
   "source": [
    "bpy.ops.render.render(write_still=True, use_viewport = True)"
   ]
  },
  {
   "cell_type": "code",
   "execution_count": null,
   "id": "951aa0e3-f7dc-45bd-a17c-fdb6b6f8bfb2",
   "metadata": {},
   "outputs": [],
   "source": []
  },
  {
   "cell_type": "code",
   "execution_count": null,
   "id": "bd956dc9-99e6-4f0b-bfb2-3b3e9767ea2c",
   "metadata": {},
   "outputs": [],
   "source": []
  },
  {
   "cell_type": "markdown",
   "id": "050a96af-f9cc-4eaa-886d-a4a43f2e0346",
   "metadata": {},
   "source": [
    "can i do the render stuff actuallz inside blender? so the viewport is open and i just need to sample it?\n",
    "\n",
    "looks promising:\n",
    "https://blenderartists.org/t/accessing-viewport-render-result-pixels-from-script/1173506/7\n",
    "\n",
    "ask this guy about it?\n",
    "https://www.youtube.com/@CGPython/videos"
   ]
  },
  {
   "cell_type": "code",
   "execution_count": null,
   "id": "9d7fc904-1b61-46c2-832f-681ef5afc5da",
   "metadata": {},
   "outputs": [],
   "source": [
    "https://stackoverflow.com/questions/68571715/in-blender-how-do-i-programmatically-display-a-viewport-rendering-in-a-window-j\n",
    "https://devtalk.blender.org/t/how-to-realtime-render-get-datauri-of-the-blender-viewport-in-full-resolution-1920-1080/5504\n",
    "https://blenderartists.org/t/way-to-track-the-viewport-point-of-view/1393853\n",
    "https://devtalk.blender.org/t/how-to-realtime-render-get-datauri-of-the-blender-viewport-in-full-resolution-1920-1080/5504/7"
   ]
  },
  {
   "cell_type": "code",
   "execution_count": null,
   "id": "00f4ace3-861c-4c2f-b5ce-a104c924f5e0",
   "metadata": {},
   "outputs": [],
   "source": []
  }
 ],
 "metadata": {
  "kernelspec": {
   "display_name": "Python 3 (ipykernel)",
   "language": "python",
   "name": "python3"
  },
  "language_info": {
   "codemirror_mode": {
    "name": "ipython",
    "version": 3
   },
   "file_extension": ".py",
   "mimetype": "text/x-python",
   "name": "python",
   "nbconvert_exporter": "python",
   "pygments_lexer": "ipython3",
   "version": "3.11.0"
  }
 },
 "nbformat": 4,
 "nbformat_minor": 5
}
